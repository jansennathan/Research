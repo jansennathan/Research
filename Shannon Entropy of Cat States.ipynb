{
 "cells": [
  {
   "cell_type": "code",
   "execution_count": null,
   "metadata": {},
   "outputs": [],
   "source": [
    "# Author: Nathan Jansen, jansenn1@msu.edu\n",
    "#\n",
    "# Description: A Qiskit program to run entangled cat states using IBM's publicly accessible quantum compters\n",
    "#              and calculate the Shannon Entropy of the resulting runs. After run, calculates the entropies, \n",
    "#              plots data & linear fit.\n",
    "#\n",
    "# Revision History: Initial version, 06/30/2021\n",
    "#                   Added calulations and plotting, 11/16/2021\n",
    "#\n",
    "# Notes:  Must have an IBMQ account, Qiskit's youtube has tutorials on setting one up\n",
    "#---------------------------------------------------------------------------------------------------------\n",
    "\n",
    "from qiskit import *\n",
    "import numpy as np\n",
    "from qiskit.visualization import plot_circuit_layout\n",
    "import os.path\n",
    "import matplotlib.pyplot as plt\n",
    "import matplotlib.patches as mp\n",
    "import matplotlib.ticker as ticker\n",
    "IBMQ.load_account()\n"
   ]
  },
  {
   "cell_type": "code",
   "execution_count": null,
   "metadata": {},
   "outputs": [],
   "source": [
    "# Setting up the circuits\n",
    "\n",
    "n = 2  # number of qubits\n",
    "cat_circs = [];\n",
    "for i in range(6):\n",
    "    cat = QuantumCircuit(n);\n",
    "    # Apply H gates\n",
    "    \n",
    "    cat.h(0);\n",
    "    \n",
    "    # Adding CNOT\n",
    "    \n",
    "    cat.cx(range(n-1),range(1,n));\n",
    "    \n",
    "    cat_circs.append(cat);\n",
    "    n = n + 1\n"
   ]
  },
  {
   "cell_type": "code",
   "execution_count": null,
   "metadata": {},
   "outputs": [],
   "source": [
    "# This part checks if Qiskit is interpreting the cat state correctly by plotting the Bloch Sphere\n",
    "\n",
    "from qiskit.tools.visualization import plot_histogram\n",
    "from qiskit.visualization import plot_state_city, plot_bloch_multivector\n",
    "from qiskit.visualization import plot_state_paulivec, plot_state_hinton\n",
    "from qiskit.visualization import plot_state_qsphere\n",
    "\n",
    "backend = BasicAer.get_backend('statevector_simulator')      # statevector simulator is the backend\n",
    "result = execute(cat, backend).result()                      # Run the circuit on the backend\n",
    "psi  = result.get_statevector(cat)                           # Declare results as Psi\n",
    "\n",
    "# Plotting the Bloch sphere\n",
    "plot_state_qsphere(psi)\n"
   ]
  },
  {
   "cell_type": "code",
   "execution_count": null,
   "metadata": {},
   "outputs": [],
   "source": [
    "#Adding measurements, you must add measurements after Bloch Sphere\n",
    "\n",
    "for cat in cat_circs:\n",
    "    cat.measure_all();\n"
   ]
  },
  {
   "cell_type": "code",
   "execution_count": null,
   "metadata": {},
   "outputs": [],
   "source": [
    "simulator = Aer.get_backend('qasm_simulator')\n",
    "result = execute(cat, backend = simulator, shots = 1024).result()\n",
    "counts = result.get_counts()\n",
    "from qiskit.tools.visualization import plot_histogram\n",
    "plot_histogram(counts)"
   ]
  },
  {
   "cell_type": "code",
   "execution_count": null,
   "metadata": {},
   "outputs": [],
   "source": [
    "# Making the list of circuits\n",
    "\n",
    "qc_list=[];\n",
    "\n",
    "\n",
    "for cat in cat_circs:\n",
    "    dummylist = []\n",
    "    for i in range(0,25):\n",
    "        dummylist.append(cat);\n",
    "    qc_list.append(dummylist);\n"
   ]
  },
  {
   "cell_type": "code",
   "execution_count": null,
   "metadata": {},
   "outputs": [],
   "source": [
    "# Run the job on quantum computer\n",
    "\n",
    "provider = IBMQ.get_provider('ibm-q')\n",
    "backend = provider.get_backend('ibm_nairobi')  \n",
    "       \n",
    "\n",
    "job1 = execute(qc_list[0], backend=backend, shots = 1024)\n",
    "job2 = execute(qc_list[1], backend=backend, shots = 1024)\n",
    "job3 = execute(qc_list[2], backend=backend, shots = 1024)\n",
    "job4 = execute(qc_list[3], backend=backend, shots = 1024)\n",
    "\n"
   ]
  },
  {
   "cell_type": "code",
   "execution_count": null,
   "metadata": {},
   "outputs": [],
   "source": [
    "# Monitoring the job, queue status/postion, and when completed\n",
    "from qiskit.tools.monitor import job_monitor\n",
    "\n",
    "job_monitor(job1)\n",
    "job_monitor(job2)\n",
    "job_monitor(job3)\n",
    "job_monitor(job4)\n"
   ]
  },
  {
   "cell_type": "code",
   "execution_count": null,
   "metadata": {},
   "outputs": [],
   "source": [
    "def entropy(p,s): # Defining the function that calculates the Entropy\n",
    "    if p == 0:\n",
    "        a = 0\n",
    "        \n",
    "    else:\n",
    "        a = -p/s*np.log2(p/s)\n",
    "    return float(a)"
   ]
  },
  {
   "cell_type": "code",
   "execution_count": null,
   "metadata": {},
   "outputs": [],
   "source": [
    "results = [job1.result(),job2.result(),job3.result(),job4.result()]"
   ]
  },
  {
   "cell_type": "code",
   "execution_count": null,
   "metadata": {},
   "outputs": [],
   "source": [
    "# Grab job counts and places them in an array in binary order\n",
    "\n",
    "cnts = [] # list to hold the set of counts for each job\n",
    "\n",
    "qn = 2\n",
    "\n",
    "for result in results:\n",
    "    nqbit = qn   \n",
    "    n = 2**nqbit        \n",
    "    vec = np.zeros(n)   #array for counts\n",
    "    \n",
    "    data =[]\n",
    "    \n",
    "    count = result.get_counts()\n",
    "    for i in count:\n",
    "        for key,value in i.items():\n",
    "            idx = 0\n",
    "            for i,b in enumerate(reversed(key)):\n",
    "                if b == '1':\n",
    "                    idx += 2**i\n",
    "            vec[idx] = value  \n",
    "        data.append(vec)\n",
    "        vec = np.zeros(n)\n",
    "    cnts.append(data)  \n",
    "    qn = qn + 1 \n"
   ]
  },
  {
   "cell_type": "code",
   "execution_count": null,
   "metadata": {},
   "outputs": [],
   "source": [
    "ent = []                           # List of averaged entropy\n",
    "stdev = []                         # Standard deviation between runs\n",
    "w = []\n",
    "for job in cnts:\n",
    "    circ = []                             # This will hold the entropies of each circuit/job\n",
    "    for run in job:\n",
    "        h=[]                          # This will hold the result of individual counts\n",
    "        for count in run:\n",
    "            h.append(entropy(count,1024))\n",
    "        circ.append(np.sum(h))\n",
    "    stdev.append(np.std(circ))\n",
    "    ent.append(np.average(circ))\n",
    "    w.append(1/(np.std(circ))**2)  # Weights for the fits"
   ]
  },
  {
   "cell_type": "code",
   "execution_count": null,
   "metadata": {},
   "outputs": [],
   "source": [
    "#----------------------------------------------------------------------------\n",
    "#       Plotting the Data\n",
    "#----------------------------------------------------------------------------\n",
    "\n",
    "c\n",
    "\n",
    "x = [2,3,4,5]\n",
    "y = ent \n",
    "\n",
    "coef = np.polyfit(x,y,1, w = w )\n",
    "poly1d_fn = np.poly1d(coef) \n",
    "\n",
    "plt.plot(x, poly1d_fn(x), '--k') \n",
    "\n",
    "\n",
    "plt.scatter(x, ent,s=50, marker = 'o', facecolors='none', edgecolors='r',linewidth=1.5)\n",
    "plt.errorbar(x, ent,yerr = stdev,fmt=' ', ecolor='r',elinewidth=1,capsize=2, zorder=0)\n",
    "\n",
    "    \n",
    "plt.title('Cat State Entropies', fontsize=16, fontweight='bold', fontname = 'Helvetica')\n",
    "plt.xlabel('Number of Qubits n', fontsize=16, fontname = 'Helvetica')\n",
    "plt.ylabel('Entropy', fontsize=16, fontname = 'Helvetica')\n",
    "plt.tight_layout() \n",
    "\n",
    "plt.show()\n",
    "\n",
    "\n",
    "print(coef)  # slope and intercept\n"
   ]
  },
  {
   "cell_type": "code",
   "execution_count": null,
   "metadata": {},
   "outputs": [],
   "source": []
  }
 ],
 "metadata": {
  "kernelspec": {
   "display_name": "Python 3",
   "language": "python",
   "name": "python3"
  },
  "language_info": {
   "codemirror_mode": {
    "name": "ipython",
    "version": 3
   },
   "file_extension": ".py",
   "mimetype": "text/x-python",
   "name": "python",
   "nbconvert_exporter": "python",
   "pygments_lexer": "ipython3",
   "version": "3.8.5"
  }
 },
 "nbformat": 4,
 "nbformat_minor": 4
}
